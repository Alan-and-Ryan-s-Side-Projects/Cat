{
 "cells": [
  {
   "cell_type": "code",
   "execution_count": 1,
   "metadata": {},
   "outputs": [],
   "source": [
    "import numpy as np\n",
    "import time\n",
    "np.random.seed(10)\n",
    "import os\n",
    "import shutil\n",
    "from sklearn.metrics import accuracy_score"
   ]
  },
  {
   "cell_type": "code",
   "execution_count": 2,
   "metadata": {},
   "outputs": [],
   "source": [
    "import cv2\n",
    "# img = cv2.imread('cat/cat0.jpg', -1) # -1 for unchanged, 0 for grayscale and 1 for color\n",
    "# img2 = cv2.imread('cat/cat2.jpg', -1)\n",
    "# img = img.reshape((1, 200, 200, 3))\n",
    "# img2 = img2.reshape((1, 200, 200, 3))\n",
    "# # cv2.imwrite('cat.jpg',img)\n",
    "# img = np.concatenate((img, img2), axis = 0)"
   ]
  },
  {
   "cell_type": "code",
   "execution_count": 4,
   "metadata": {},
   "outputs": [],
   "source": [
    "# Resize all images\n",
    "# X = np.array([], dtype=np.int64).reshape(0, 224, 224, 3)\n",
    "\n",
    "# dim = (224, 224)\n",
    "# i = 0\n",
    "# for file in os.listdir('train'):\n",
    "#     img = cv2.imread(os.path.join('train', file), -1)\n",
    "#     resized = cv2.resize(img, dim, interpolation = cv2.INTER_AREA)\n",
    "#     os.remove('train/'+file)\n",
    "#     cv2.imwrite(os.path.join('train', file),resized)\n",
    "#     i+=1\n",
    "#     if(i%1000 == 0):\n",
    "#         print(i)"
   ]
  },
  {
   "cell_type": "code",
   "execution_count": 4,
   "metadata": {},
   "outputs": [],
   "source": [
    "# Randomly select cat and dogs in training set and obtain test set\n",
    "\n",
    "# Example: shutil.move(\"cat/cat1.jpg\", \"test/cat1.jpg\")\n",
    "\n",
    "# i = 0\n",
    "# for file in os.listdir('cat'):\n",
    "#     r = np.random.rand()\n",
    "#     if r < 0.20:\n",
    "#         i+=1\n",
    "#         shutil.move(os.path.join('cat', file), os.path.join('test', file))\n",
    "# j = 0\n",
    "# for file in os.listdir('dog'):\n",
    "#     r = np.random.rand()\n",
    "#     if r < 0.20:\n",
    "#         j+=1\n",
    "#         shutil.move(os.path.join('dog', file), os.path.join('test', file))\n",
    "# print('i:'+str(i))\n",
    "# print('j:'+str(j))"
   ]
  },
  {
   "cell_type": "code",
   "execution_count": 3,
   "metadata": {},
   "outputs": [],
   "source": [
    "import tensorflow as tf\n",
    "from tensorflow.keras.preprocessing.image import load_img\n",
    "from tensorflow.keras.preprocessing.image import img_to_array"
   ]
  },
  {
   "cell_type": "code",
   "execution_count": 1,
   "metadata": {},
   "outputs": [],
   "source": [
    "# Make X and y\n",
    "\n",
    "\n",
    "# i = 0\n",
    "\n",
    "# img_list = list()\n",
    "# y = list()\n",
    "\n",
    "# for file in os.listdir('train'):\n",
    "#     img = img_to_array(load_img('train/' + file, target_size=(224, 224)))\n",
    "#     img_list.append(img)\n",
    "#     if file.startswith('cat'):\n",
    "#         y.append(0)\n",
    "#     else:\n",
    "#         y.append(1)\n",
    "#     i+=1\n",
    "#     if(i%1000 == 0):\n",
    "#         print(i)\n",
    "\n",
    "# X = np.asarray(img_list)\n",
    "# del img_list\n",
    "# y = np.asarray(y)"
   ]
  },
  {
   "cell_type": "code",
   "execution_count": 7,
   "metadata": {},
   "outputs": [],
   "source": [
    "# randomize X and y, store in npz file\n",
    "\n",
    "# from sklearn.utils import shuffle\n",
    "\n",
    "# y = np.concatenate((np.ones(y.shape)-y, y), axis=1)\n",
    "\n",
    "# X, y = shuffle(X, y)\n",
    "# np.savez_compressed('train/X', arr=X)\n",
    "# np.savez_compressed('train/y', arr=y)\n",
    "\n",
    "# X = np.load('train/X.npz')\n",
    "# X = X['arr']\n",
    "# y = np.load('train/y.npz')\n",
    "# y = y['arr']\n",
    "# X /= np.max(X)"
   ]
  },
  {
   "cell_type": "code",
   "execution_count": 53,
   "metadata": {},
   "outputs": [],
   "source": [
    "# Place in corresponding dir\n",
    "\n",
    "# for file in os.listdir('train'):\n",
    "#     if file.startswith('cat'):\n",
    "#         shutil.move('train/'+file, 'cat/'+file)\n",
    "#     elif file.startswith('dog'):\n",
    "#         shutil.move('train/'+file, 'dog/'+file)\n",
    "\n",
    "# for file in os.listdir('train/cat'):\n",
    "#     r = np.random.rand()\n",
    "#     if r < 0.20:\n",
    "#         shutil.move('train/cat/'+file, 'test/cat/'+file)\n",
    "# for file in os.listdir('train/dog'):\n",
    "#     r = np.random.rand()\n",
    "#     if r < 0.20:\n",
    "#         shutil.move('train/dog/'+file, 'test/dog/'+file)"
   ]
  },
  {
   "cell_type": "code",
   "execution_count": 4,
   "metadata": {},
   "outputs": [],
   "source": [
    "import matplotlib.pyplot as plt\n",
    "# index = 1197\n",
    "# print(y[index])\n",
    "# plt.imshow(X[index].reshape(200, 200, 3), cmap=plt.cm.binary)"
   ]
  },
  {
   "cell_type": "code",
   "execution_count": 5,
   "metadata": {},
   "outputs": [],
   "source": [
    "from tensorflow.keras.models import Sequential\n",
    "from tensorflow.keras.layers import Dense, Flatten, Conv2D, MaxPool2D, Dropout\n",
    "from tensorflow.keras.layers import BatchNormalization\n",
    "from tensorflow.keras.optimizers import SGD"
   ]
  },
  {
   "cell_type": "code",
   "execution_count": 6,
   "metadata": {},
   "outputs": [],
   "source": [
    "from tensorflow.keras.preprocessing.image import ImageDataGenerator\n",
    "from tensorflow.keras.applications.vgg16 import VGG16\n",
    "\n",
    "model = VGG16(include_top=False, input_shape=(224, 224, 3))"
   ]
  },
  {
   "cell_type": "code",
   "execution_count": 7,
   "metadata": {},
   "outputs": [
    {
     "name": "stdout",
     "output_type": "stream",
     "text": [
      "Found 19961 images belonging to 2 classes.\n",
      "Found 5039 images belonging to 2 classes.\n"
     ]
    }
   ],
   "source": [
    "datagen = ImageDataGenerator(featurewise_center=True)\n",
    "datagen.mean = [123.68, 116.779, 103.939]\n",
    "train_generator = datagen.flow_from_directory('train', class_mode='binary', batch_size=64, target_size=(224, 224))\n",
    "test_generator = datagen.flow_from_directory('test', class_mode='binary', batch_size=64, target_size=(224, 224))"
   ]
  },
  {
   "cell_type": "code",
   "execution_count": 8,
   "metadata": {},
   "outputs": [
    {
     "name": "stdout",
     "output_type": "stream",
     "text": [
      "Model: \"model\"\n",
      "_________________________________________________________________\n",
      "Layer (type)                 Output Shape              Param #   \n",
      "=================================================================\n",
      "input_1 (InputLayer)         [(None, 224, 224, 3)]     0         \n",
      "_________________________________________________________________\n",
      "block1_conv1 (Conv2D)        (None, 224, 224, 64)      1792      \n",
      "_________________________________________________________________\n",
      "block1_conv2 (Conv2D)        (None, 224, 224, 64)      36928     \n",
      "_________________________________________________________________\n",
      "block1_pool (MaxPooling2D)   (None, 112, 112, 64)      0         \n",
      "_________________________________________________________________\n",
      "block2_conv1 (Conv2D)        (None, 112, 112, 128)     73856     \n",
      "_________________________________________________________________\n",
      "block2_conv2 (Conv2D)        (None, 112, 112, 128)     147584    \n",
      "_________________________________________________________________\n",
      "block2_pool (MaxPooling2D)   (None, 56, 56, 128)       0         \n",
      "_________________________________________________________________\n",
      "block3_conv1 (Conv2D)        (None, 56, 56, 256)       295168    \n",
      "_________________________________________________________________\n",
      "block3_conv2 (Conv2D)        (None, 56, 56, 256)       590080    \n",
      "_________________________________________________________________\n",
      "block3_conv3 (Conv2D)        (None, 56, 56, 256)       590080    \n",
      "_________________________________________________________________\n",
      "block3_pool (MaxPooling2D)   (None, 28, 28, 256)       0         \n",
      "_________________________________________________________________\n",
      "block4_conv1 (Conv2D)        (None, 28, 28, 512)       1180160   \n",
      "_________________________________________________________________\n",
      "block4_conv2 (Conv2D)        (None, 28, 28, 512)       2359808   \n",
      "_________________________________________________________________\n",
      "block4_conv3 (Conv2D)        (None, 28, 28, 512)       2359808   \n",
      "_________________________________________________________________\n",
      "block4_pool (MaxPooling2D)   (None, 14, 14, 512)       0         \n",
      "_________________________________________________________________\n",
      "block5_conv1 (Conv2D)        (None, 14, 14, 512)       2359808   \n",
      "_________________________________________________________________\n",
      "block5_conv2 (Conv2D)        (None, 14, 14, 512)       2359808   \n",
      "_________________________________________________________________\n",
      "block5_conv3 (Conv2D)        (None, 14, 14, 512)       2359808   \n",
      "_________________________________________________________________\n",
      "block5_pool (MaxPooling2D)   (None, 7, 7, 512)         0         \n",
      "_________________________________________________________________\n",
      "flatten (Flatten)            (None, 25088)             0         \n",
      "_________________________________________________________________\n",
      "dense (Dense)                (None, 128)               3211392   \n",
      "_________________________________________________________________\n",
      "dropout (Dropout)            (None, 128)               0         \n",
      "_________________________________________________________________\n",
      "dense_1 (Dense)              (None, 1)                 129       \n",
      "=================================================================\n",
      "Total params: 17,926,209\n",
      "Trainable params: 3,211,521\n",
      "Non-trainable params: 14,714,688\n",
      "_________________________________________________________________\n"
     ]
    }
   ],
   "source": [
    "from tensorflow.keras.models import Model\n",
    "for layer in model.layers:\n",
    "    layer.trainable = False\n",
    "flat = Flatten()(model.output)\n",
    "dense1 = Dense(128, activation = 'relu')(flat)\n",
    "drop = Dropout(0.3)(dense1)\n",
    "dense2 = Dense(1, activation = 'sigmoid')(drop)\n",
    "model = Model(inputs=model.input, outputs=dense2)\n",
    "model.summary()"
   ]
  },
  {
   "cell_type": "code",
   "execution_count": 9,
   "metadata": {},
   "outputs": [],
   "source": [
    "model.compile(loss='binary_crossentropy', optimizer='adam', metrics=['accuracy'])"
   ]
  },
  {
   "cell_type": "code",
   "execution_count": 10,
   "metadata": {
    "scrolled": true
   },
   "outputs": [
    {
     "name": "stdout",
     "output_type": "stream",
     "text": [
      "312/312 [==============================] - 21470s 69s/step - loss: 0.8224 - accuracy: 0.9420 - val_loss: 0.6109 - val_accuracy: 0.9577\n"
     ]
    }
   ],
   "source": [
    "history = model.fit_generator(train_generator, steps_per_epoch=len(train_generator), \\\n",
    "                              validation_data=test_generator, validation_steps=len(test_generator), epochs=1)"
   ]
  },
  {
   "cell_type": "code",
   "execution_count": 17,
   "metadata": {},
   "outputs": [],
   "source": []
  },
  {
   "cell_type": "code",
   "execution_count": 18,
   "metadata": {},
   "outputs": [
    {
     "name": "stdout",
     "output_type": "stream",
     "text": [
      "WARNING:tensorflow:From C:\\Users\\zhux2\\OneDrive\\Documents\\conda\\envs\\tensorflow\\lib\\site-packages\\tensorflow_core\\python\\ops\\resource_variable_ops.py:1781: calling BaseResourceVariable.__init__ (from tensorflow.python.ops.resource_variable_ops) with constraint is deprecated and will be removed in a future version.\n",
      "Instructions for updating:\n",
      "If using Keras pass *_constraint arguments to layers.\n",
      "INFO:tensorflow:Assets written to: acc9420val9577\\assets\n"
     ]
    }
   ],
   "source": [
    "model.save('acc9420val9577')"
   ]
  },
  {
   "cell_type": "code",
   "execution_count": 33,
   "metadata": {},
   "outputs": [],
   "source": [
    "# model = Sequential()\n",
    "# model.add(Conv2D(filters=64, kernel_size=(3,3), padding='same', activation='relu', kernel_initializer='he_uniform', \\\n",
    "#                  input_shape=(224,224,3)))\n",
    "# model.add(Conv2D(filters=64, kernel_size=(3,3), padding='same', activation='relu', kernel_initializer='he_uniform'))\n",
    "# model.add(MaxPool2D(pool_size=(2,2),strides=(2,2)))\n",
    "# model.add(Dropout(0.2))\n",
    "# model.add(Conv2D(filters=128, kernel_size=(3,3), padding='same', activation='relu', kernel_initializer='he_uniform'))\n",
    "# model.add(Conv2D(filters=128, kernel_size=(3,3), padding='same', activation='relu', kernel_initializer='he_uniform'))\n",
    "# model.add(MaxPool2D(pool_size=(2,2),strides=(2,2)))\n",
    "# model.add(Dropout(0.2))\n",
    "# model.add(Conv2D(filters=256, kernel_size=(3,3), padding='same', activation='relu', kernel_initializer='he_uniform'))\n",
    "# model.add(Conv2D(filters=256, kernel_size=(3,3), padding='same', activation='relu', kernel_initializer='he_uniform'))\n",
    "# model.add(Conv2D(filters=256, kernel_size=(3,3), padding='same', activation='relu', kernel_initializer='he_uniform'))\n",
    "# model.add(MaxPool2D(pool_size=(2,2),strides=(2,2)))\n",
    "# model.add(Dropout(0.2))\n",
    "# model.add(Conv2D(filters=512, kernel_size=(3,3), padding='same', activation='relu', kernel_initializer='he_uniform'))\n",
    "# model.add(Conv2D(filters=512, kernel_size=(3,3), padding='same', activation='relu', kernel_initializer='he_uniform'))\n",
    "# model.add(Conv2D(filters=512, kernel_size=(3,3), padding='same', activation='relu', kernel_initializer='he_uniform'))\n",
    "# model.add(MaxPool2D(pool_size=(2,2),strides=(2,2)))\n",
    "# model.add(Dropout(0.2))\n",
    "# model.add(Flatten())\n",
    "# model.add(Dense(1024, activation = 'relu'))\n",
    "# model.add(Dense(1024, activation = 'relu'))\n",
    "# model.add(Dense(1, activation = 'softmax'))"
   ]
  },
  {
   "cell_type": "code",
   "execution_count": 24,
   "metadata": {
    "scrolled": true
   },
   "outputs": [],
   "source": [
    "# del X\n",
    "# del y\n",
    "\n",
    "# # Make testy\n",
    "# testy = np.concatenate((np.zeros((2644, 1)), np.ones((2527, 1))), axis=0)\n",
    "# testy.shape\n",
    "\n",
    "# # Make testX\n",
    "# img_list = list()\n",
    "# for file in os.listdir('test'):\n",
    "#     img = img_to_array(load_img('test/' + file, target_size=(200, 200)))\n",
    "#     img_list.append(img)\n",
    "\n",
    "# testX = np.asarray(img_list)\n",
    "# np.savez_compressed('testX', arr=testX)\n",
    "# del img_list\n",
    "# del img\n",
    "\n",
    "# testX = np.load('testX.npz')\n",
    "# testX = testX['arr']"
   ]
  },
  {
   "cell_type": "code",
   "execution_count": 26,
   "metadata": {},
   "outputs": [],
   "source": [
    "# from sklearn.utils import shuffle\n",
    "\n",
    "# testX, testy = shuffle(testX, testy)\n",
    "# testy = np.concatenate((np.ones(testy.shape)-testy, testy), axis=1)\n",
    "\n",
    "# np.savez_compressed('testX', arr=testX)\n",
    "# np.savez_compressed('testy', arr=testy)\n",
    "\n",
    "testX = np.load('testX.npz')\n",
    "testX = testX['arr']\n",
    "testy = np.load('testy.npz')\n",
    "testy = testy['arr']"
   ]
  },
  {
   "cell_type": "code",
   "execution_count": 1,
   "metadata": {},
   "outputs": [
    {
     "ename": "NameError",
     "evalue": "name 'accuracy_score' is not defined",
     "output_type": "error",
     "traceback": [
      "\u001b[1;31m---------------------------------------------------------------------------\u001b[0m",
      "\u001b[1;31mNameError\u001b[0m                                 Traceback (most recent call last)",
      "\u001b[1;32m<ipython-input-1-228dc9ec9377>\u001b[0m in \u001b[0;36m<module>\u001b[1;34m\u001b[0m\n\u001b[1;32m----> 1\u001b[1;33m \u001b[0maccuracy_score\u001b[0m\u001b[1;33m(\u001b[0m\u001b[0mnp\u001b[0m\u001b[1;33m.\u001b[0m\u001b[0margmax\u001b[0m\u001b[1;33m(\u001b[0m\u001b[0mmodel\u001b[0m\u001b[1;33m.\u001b[0m\u001b[0mpredict\u001b[0m\u001b[1;33m(\u001b[0m\u001b[0mtestX\u001b[0m\u001b[1;33m)\u001b[0m\u001b[1;33m,\u001b[0m \u001b[0maxis\u001b[0m\u001b[1;33m=\u001b[0m\u001b[1;36m1\u001b[0m\u001b[1;33m)\u001b[0m\u001b[1;33m,\u001b[0m \u001b[0mnp\u001b[0m\u001b[1;33m.\u001b[0m\u001b[0margmax\u001b[0m\u001b[1;33m(\u001b[0m\u001b[0mtesty\u001b[0m\u001b[1;33m,\u001b[0m \u001b[0maxis\u001b[0m\u001b[1;33m=\u001b[0m\u001b[1;36m1\u001b[0m\u001b[1;33m)\u001b[0m\u001b[1;33m)\u001b[0m\u001b[1;33m\u001b[0m\u001b[1;33m\u001b[0m\u001b[0m\n\u001b[0m",
      "\u001b[1;31mNameError\u001b[0m: name 'accuracy_score' is not defined"
     ]
    }
   ],
   "source": [
    "accuracy_score(np.argmax(model.predict(testX), axis=1), np.argmax(testy, axis=1))"
   ]
  },
  {
   "cell_type": "code",
   "execution_count": null,
   "metadata": {
    "scrolled": true
   },
   "outputs": [],
   "source": []
  }
 ],
 "metadata": {
  "kernelspec": {
   "display_name": "Python 3",
   "language": "python",
   "name": "python3"
  },
  "language_info": {
   "codemirror_mode": {
    "name": "ipython",
    "version": 3
   },
   "file_extension": ".py",
   "mimetype": "text/x-python",
   "name": "python",
   "nbconvert_exporter": "python",
   "pygments_lexer": "ipython3",
   "version": "3.7.7"
  }
 },
 "nbformat": 4,
 "nbformat_minor": 4
}
